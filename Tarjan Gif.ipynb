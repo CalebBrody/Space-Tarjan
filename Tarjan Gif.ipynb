{
 "cells": [
  {
   "cell_type": "code",
   "execution_count": null,
   "metadata": {},
   "outputs": [],
   "source": []
  },
  {
   "cell_type": "code",
   "execution_count": 126,
   "metadata": {},
   "outputs": [],
   "source": [
    "# Python program to find bridges in a given undirected graph\n",
    "#Complexity : O(V+E)\n",
    "# Based On Code at https://www.geeksforgeeks.org/articulation-points-or-cut-vertices-in-a-graph/ \n",
    "   \n",
    "from collections import defaultdict\n",
    "import networkx as nx\n",
    "import matplotlib.pyplot as plt \n",
    "import os\n",
    "import sys\n",
    "import matplotlib\n",
    "import matplotlib.pyplot as plt\n",
    "from io import StringIO, BytesIO \n",
    "import urllib, base64"
   ]
  },
  {
   "cell_type": "code",
   "execution_count": 163,
   "metadata": {
    "scrolled": true
   },
   "outputs": [
    {
     "name": "stdout",
     "output_type": "stream",
     "text": [
      "\n",
      "Bridges in graph \n",
      "goto  0\n"
     ]
    }
   ],
   "source": [
    "#This class represents an undirected graph using adjacency list representation\n",
    "class Graph:\n",
    "   \n",
    "    def __init__(self,vertices):\n",
    "        self.V= vertices #No. of vertices\n",
    "        self.graph = defaultdict(list) # default dictionary to store graph\n",
    "        self.xgraph=nx.Graph() \n",
    "        self.xgraph.add_nodes_from([ i for i in range(vertices)]) \n",
    "        self.Time = 0\n",
    "        self.disc = [float(\"Inf\")] * (self.V)\n",
    "        self.low = [float(\"Inf\")] * (self.V)\n",
    "        self.bridges = [] \n",
    "        self.states = [] \n",
    "   \n",
    "    # function to add an edge to graph\n",
    "    def addEdge(self,u,v):\n",
    "        u = u  \n",
    "        v = v\n",
    "        self.graph[u].append(v)\n",
    "        self.graph[v].append(u)\n",
    "        self.xgraph.add_edge(u, v, name = '%sx%s' %(u,v) )\n",
    "        self.xgraph.add_edge(v, u, name = '%sx%s' %(v,u) )\n",
    "   \n",
    "    def draw(self, current ):\n",
    "        labels = {i : '%s <= %s' % ( self.low[i] , self.disc[i] ) for i in range( len(self.disc) )  }\n",
    "        random_pos = nx.random_layout(self.xgraph, seed=42)\n",
    "        pos = nx.spring_layout( self.xgraph, pos=random_pos) \n",
    "        nx.draw( self.xgraph, pos, node_color = 'red' , with_labels = True, labels=labels)\n",
    "        labels = {current : 'check here ->'} \n",
    "        for u ,v in self.bridges: \n",
    "            labels[(u,v)] = 'Bridge %sx%s' %(u,v)  \n",
    "        nx.draw_networkx_edge_labels( self.xgraph, pos, edge_labels=labels )\n",
    "        \n",
    "        imgdata = BytesIO()\n",
    "        plt.savefig(imgdata, format='png')\n",
    "        imgdata.seek(0)  # rewind the data \n",
    "        self.states.append( imgdata ) \n",
    "        plt.close() \n",
    "\n",
    "    '''A recursive function that finds and prints bridges\n",
    "    using DFS traversal\n",
    "    '''\n",
    "    def bridgeUtil(self,u, visited, parent):\n",
    "  \n",
    "        # Mark the current node as visited and print it\n",
    "        visited[u]= True\n",
    "  \n",
    "        # Initialize self.discovery time and self.low value\n",
    "        self.disc[u] = self.Time\n",
    "        self.low[u] = self.Time\n",
    "        self.Time += 1\n",
    "  \n",
    "        #Recur for all the vertices adjacent to this vertex\n",
    "        for v in self.graph[u]:\n",
    "            # If v is not visited yet, then make it a child of u\n",
    "            # in DFS tree and recur for it\n",
    "            if visited[v] == False :\n",
    "                parent[v] = u\n",
    "                self.bridgeUtil(v, visited, parent)\n",
    "  \n",
    "                # Check if the subtree rooted with v has a connection to\n",
    "                # one of the ancestors of u\n",
    "                self.low[u] = min(self.low[u], self.low[v])\n",
    "  \n",
    "  \n",
    "                ''' If the self.lowest vertex reachable from subtree\n",
    "                under v is beself.low u in DFS tree, then u-v is\n",
    "                a bridge'''\n",
    "                if self.low[v] > self.disc[u]:\n",
    "                    self.bridges.append( (u, v) ) \n",
    "      \n",
    "                      \n",
    "            elif v != parent[u]: # Update self.low value of u for parent function calls.\n",
    "                self.low[u] = min(self.low[u], self.disc[v])\n",
    "            self.draw((u,v))  \n",
    "  \n",
    "  \n",
    "    # DFS based function to find all bridges. It uses recursive\n",
    "    # function bridgeUtil()\n",
    "    def bridge(self):\n",
    "   \n",
    "        # Mark all the vertices as not visited and Initialize parent and visited, \n",
    "        # and ap(articulation point) arrays\n",
    "        visited = [False] * (self.V)\n",
    "        parent = [-1] * (self.V)\n",
    "  \n",
    "        # Call the recursive helper function to find bridges\n",
    "        # in DFS tree rooted with vertex 'i'\n",
    "        for i in range(self.V):\n",
    "            if visited[i] == False:\n",
    "                print ('goto ' , i)\n",
    "                self.bridgeUtil(i, visited, parent)\n",
    "          \n",
    "   \n",
    "g3 = Graph (7)\n",
    "g3.addEdge(0, 1)\n",
    "g3.addEdge(1, 2)\n",
    "g3.addEdge(2, 0)\n",
    "g3.addEdge(1, 3)\n",
    "g3.addEdge(1, 4)\n",
    "g3.addEdge(1, 6)\n",
    "g3.addEdge(3, 5)\n",
    "g3.addEdge(4, 5)\n",
    "print ( \"\\nBridges in graph \" ) \n",
    "g3.bridge() \n",
    "\n",
    "import imageio, urllib\n",
    "import cv2 as cv \n",
    "with imageio.get_writer('one.gif', mode='I') as writer:\n",
    "    for imgdata in g3.states:\n",
    "        for i in range(10):\n",
    "            imgdata.seek(0) \n",
    "            writer.append_data(imageio.imread(imgdata))  "
   ]
  },
  {
   "cell_type": "code",
   "execution_count": 164,
   "metadata": {
    "scrolled": true
   },
   "outputs": [
    {
     "name": "stdout",
     "output_type": "stream",
     "text": [
      "goto  0\n"
     ]
    }
   ],
   "source": [
    "g3 = Graph (7)\n",
    "g3.addEdge(0, 1)\n",
    "g3.addEdge(2, 0)\n",
    "g3.addEdge(1, 3)\n",
    "g3.addEdge(2, 3)\n",
    "g3.addEdge(4, 3)\n",
    "g3.addEdge(5, 3)\n",
    "g3.addEdge(4, 6)\n",
    "g3.addEdge(5, 6)\n",
    "\n",
    "g3.bridge() \n",
    "\n",
    "import imageio, urllib\n",
    "import cv2 as cv \n",
    "with imageio.get_writer('two.gif', mode='I') as writer:\n",
    "    for imgdata in g3.states:\n",
    "        for i in range(10):\n",
    "            imgdata.seek(0) \n",
    "            writer.append_data(imageio.imread(imgdata))  "
   ]
  },
  {
   "cell_type": "code",
   "execution_count": null,
   "metadata": {
    "scrolled": true
   },
   "outputs": [],
   "source": []
  },
  {
   "cell_type": "code",
   "execution_count": null,
   "metadata": {
    "scrolled": true
   },
   "outputs": [],
   "source": []
  },
  {
   "cell_type": "code",
   "execution_count": null,
   "metadata": {},
   "outputs": [],
   "source": []
  }
 ],
 "metadata": {
  "kernelspec": {
   "display_name": "Python 3",
   "language": "python",
   "name": "python3"
  },
  "language_info": {
   "codemirror_mode": {
    "name": "ipython",
    "version": 3
   },
   "file_extension": ".py",
   "mimetype": "text/x-python",
   "name": "python",
   "nbconvert_exporter": "python",
   "pygments_lexer": "ipython3",
   "version": "3.8.5"
  }
 },
 "nbformat": 4,
 "nbformat_minor": 4
}
